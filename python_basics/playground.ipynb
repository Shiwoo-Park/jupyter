{
 "cells": [
  {
   "cell_type": "code",
   "execution_count": 3,
   "metadata": {},
   "outputs": [
    {
     "name": "stdout",
     "output_type": "stream",
     "text": [
      "[1, 2, 4, 5]\n"
     ]
    },
    {
     "ename": "TypeError",
     "evalue": "'tuple' object does not support item assignment",
     "output_type": "error",
     "traceback": [
      "\u001b[0;31m---------------------------------------------------------------------------\u001b[0m",
      "\u001b[0;31mTypeError\u001b[0m                                 Traceback (most recent call last)",
      "\u001b[0;32m<ipython-input-3-16236c34b662>\u001b[0m in \u001b[0;36m<module>\u001b[0;34m()\u001b[0m\n\u001b[1;32m      4\u001b[0m \u001b[0;34m\u001b[0m\u001b[0m\n\u001b[1;32m      5\u001b[0m \u001b[0ma\u001b[0m \u001b[0;34m=\u001b[0m \u001b[0;34m(\u001b[0m\u001b[0;36m1\u001b[0m\u001b[0;34m,\u001b[0m\u001b[0;36m4\u001b[0m\u001b[0;34m)\u001b[0m\u001b[0;34m\u001b[0m\u001b[0m\n\u001b[0;32m----> 6\u001b[0;31m \u001b[0ma\u001b[0m\u001b[0;34m[\u001b[0m\u001b[0;36m1\u001b[0m\u001b[0;34m]\u001b[0m \u001b[0;34m=\u001b[0m \u001b[0;36m19\u001b[0m\u001b[0;34m\u001b[0m\u001b[0m\n\u001b[0m",
      "\u001b[0;31mTypeError\u001b[0m: 'tuple' object does not support item assignment"
     ]
    }
   ],
   "source": [
    "a = [1,2,3,4,5]\n",
    "del(a[2])\n",
    "print(a)\n",
    "\n",
    "a = (1,4)\n",
    "a[1] = 19"
   ]
  },
  {
   "cell_type": "code",
   "execution_count": 4,
   "metadata": {},
   "outputs": [
    {
     "name": "stdout",
     "output_type": "stream",
     "text": [
      "{\"title\": \"modified test gacha\", \"cash_expire_comment\": \"modified expire comment\", \"items\": [{\"uid\": \"367\", \"cash\": 500, \"probability\": 0.2, \"event_id\": \"48887c9e56a7b7a3dc52ee65bac546db\", \"_is_delete\": true}, {\"uid\": \"368\", \"cash\": 300, \"probability\": 0.3, \"event_id\": \"48887c9e56a7b7a3dc52ee65bac546db\", \"_is_delete\": false}, {\"uid\": \"369\", \"cash\": 100, \"probability\": 0.5, \"event_id\": \"48887c9e56a7b7a3dc52ee65bac546db\", \"_is_delete\": false}, {\"cash\": 700, \"probability\": 0.4, \"event_id\": \"48887c9e56a7b7a3dc52ee65bac546db\", \"_is_delete\": true}, {\"cash\": 1000, \"probability\": 0.2, \"event_id\": \"48887c9e56a7b7a3dc52ee65bac546db\", \"_is_delete\": false}]}\n"
     ]
    }
   ],
   "source": [
    "import json\n",
    "d = {'title': 'modified test gacha', 'cash_expire_comment': 'modified expire comment', 'items': [\n",
    "    {'uid': '367', 'cash': 500, 'probability': 0.2, 'event_id': '48887c9e56a7b7a3dc52ee65bac546db', '_is_delete': True},\n",
    "    {'uid': '368', 'cash': 300, 'probability': 0.3, 'event_id': '48887c9e56a7b7a3dc52ee65bac546db',\n",
    "     '_is_delete': False},\n",
    "    {'uid': '369', 'cash': 100, 'probability': 0.5, 'event_id': '48887c9e56a7b7a3dc52ee65bac546db',\n",
    "     '_is_delete': False},\n",
    "    {'cash': 700, 'probability': 0.4, 'event_id': '48887c9e56a7b7a3dc52ee65bac546db', '_is_delete': True},\n",
    "    {'cash': 1000, 'probability': 0.2, 'event_id': '48887c9e56a7b7a3dc52ee65bac546db', '_is_delete': False}]}\n",
    "\n",
    "\n",
    "json_str = json.JSONEncoder().encode(d)\n",
    "print(json_str)"
   ]
  },
  {
   "cell_type": "code",
   "execution_count": 3,
   "metadata": {},
   "outputs": [
    {
     "name": "stdout",
     "output_type": "stream",
     "text": [
      "This is repr\n"
     ]
    }
   ],
   "source": [
    "class Test:\n",
    "    def __str__(self):\n",
    "        return \"This is str\"\n",
    "    def __repr__(self):\n",
    "        return \"This is repr\"\n",
    "\n",
    "t = Test()    \n",
    "print(t)\n"
   ]
  },
  {
   "cell_type": "code",
   "execution_count": 3,
   "metadata": {},
   "outputs": [
    {
     "data": {
      "text/plain": [
       "[(1, 'a'), (2, 'b'), (3, 'c')]"
      ]
     },
     "execution_count": 3,
     "metadata": {},
     "output_type": "execute_result"
    }
   ],
   "source": [
    "list(zip([1, 2, 3], ['a', 'b', 'c']))"
   ]
  },
  {
   "cell_type": "code",
   "execution_count": 4,
   "metadata": {},
   "outputs": [
    {
     "data": {
      "text/plain": [
       "[3, 2, 4]"
      ]
     },
     "execution_count": 4,
     "metadata": {},
     "output_type": "execute_result"
    }
   ],
   "source": [
    "list(map(len, ['abc', 'de', 'fghi']))"
   ]
  },
  {
   "cell_type": "code",
   "execution_count": 5,
   "metadata": {},
   "outputs": [
    {
     "data": {
      "text/plain": [
       "[5, 7, 9]"
      ]
     },
     "execution_count": 5,
     "metadata": {},
     "output_type": "execute_result"
    }
   ],
   "source": [
    "list(map(sum, zip([1, 2, 3], [4, 5, 6])))"
   ]
  },
  {
   "cell_type": "code",
   "execution_count": 6,
   "metadata": {},
   "outputs": [
    {
     "data": {
      "text/plain": [
       "[(1, 2), (3, 4), (5, 6), (7, 8), (9, 10)]"
      ]
     },
     "execution_count": 6,
     "metadata": {},
     "output_type": "execute_result"
    }
   ],
   "source": [
    "def naive_grouper(inputs, n):\n",
    "    num_groups = len(inputs) // n\n",
    "    return [tuple(inputs[i*n:(i+1)*n]) for i in range(num_groups)]\n",
    "\n",
    "nums = [1, 2, 3, 4, 5, 6, 7, 8, 9, 10]\n",
    "naive_grouper(nums, 2)"
   ]
  },
  {
   "cell_type": "code",
   "execution_count": 2,
   "metadata": {},
   "outputs": [
    {
     "name": "stdout",
     "output_type": "stream",
     "text": [
      "[('val1', 'desc1'), ('val2', 'desc2')]\n",
      "['val1', 'val2']\n"
     ]
    }
   ],
   "source": [
    "a = [(\"val1\", \"desc1\"), (\"val2\", \"desc2\")]\n",
    "b = [elem[0] for elem in a]\n",
    "print(a)\n",
    "print(b)"
   ]
  },
  {
   "cell_type": "code",
   "execution_count": 9,
   "metadata": {},
   "outputs": [
    {
     "name": "stdout",
     "output_type": "stream",
     "text": [
      "Hello mark, Nice to meet you !!!\n",
      "'Person' object has no attribute '__get_trailing_text'\n",
      "Hello Mr.silva\n",
      "'Man' object has no attribute '__get_trailing_text'\n"
     ]
    }
   ],
   "source": [
    "class Person:\n",
    "    name = None\n",
    "\n",
    "    def __init__(self, name):  # constructor\n",
    "        self.name = name\n",
    "\n",
    "    def __get_trailing_text(self):  # private method\n",
    "        return \"Nice to meet you !!!\"\n",
    "\n",
    "    def _hello(self):  # protected method\n",
    "        return \"Hello {}, {}\".format( self.name, self.__get_trailing_text() )\n",
    "\n",
    "    def hello(self):  # public method\n",
    "        print(self._hello())\n",
    "\n",
    "\n",
    "class Man(Person):\n",
    "    def _hello(self):\n",
    "        # self.__get_trailing_text() 사용 불가\n",
    "        return \"Hello Mr.{}\".format(self.name)\n",
    "\n",
    "p = Person(\"mark\")\n",
    "p.hello()  # Hello mark, Nice to meet you !!!\n",
    "\n",
    "try:\n",
    "    p.__get_trailing_text()\n",
    "except Exception as e:\n",
    "    print(e)  # AttributeError\n",
    "\n",
    "m = Man(\"silva\")\n",
    "m.hello()  # Hello Mr.silva\n",
    "\n",
    "# 가능은 하지만 좋지 않은 용법\n",
    "m._hello()  # Hello Mr.silva\n",
    "\n",
    "try:\n",
    "    m.__get_trailing_text()  \n",
    "except Exception as e:\n",
    "    print(e)  # AttributeError\n"
   ]
  }
 ],
 "metadata": {
  "kernelspec": {
   "display_name": "Python 3",
   "language": "python",
   "name": "python3"
  },
  "language_info": {
   "codemirror_mode": {
    "name": "ipython",
    "version": 3
   },
   "file_extension": ".py",
   "mimetype": "text/x-python",
   "name": "python",
   "nbconvert_exporter": "python",
   "pygments_lexer": "ipython3",
   "version": "3.6.7"
  }
 },
 "nbformat": 4,
 "nbformat_minor": 2
}
