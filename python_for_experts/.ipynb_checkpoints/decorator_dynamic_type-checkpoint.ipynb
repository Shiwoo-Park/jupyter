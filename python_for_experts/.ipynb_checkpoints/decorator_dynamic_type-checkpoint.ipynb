{
 "cells": [
  {
   "cell_type": "code",
   "execution_count": 1,
   "metadata": {},
   "outputs": [
    {
     "name": "stdout",
     "output_type": "stream",
     "text": [
      "aaa\n",
      "<pre>hello~~ <br/>\n",
      " silva!!</pre>\n",
      "aaa\n",
      "<pre>A<br/>\n",
      "B<br/>\n",
      "C</pre>\n"
     ]
    }
   ],
   "source": [
    "from functools import singledispatch\n",
    "from collections import abc\n",
    "import numbers\n",
    "import html\n",
    "\n",
    "# 기본 로직\n",
    "@singledispatch\n",
    "def htmlize(obj):\n",
    "    print(\"original\")\n",
    "    content = html.escape(repr(obj))\n",
    "    return \"<pre>{}</pre>\".format(content)\n",
    "\n",
    "\n",
    "# 특정 자료형에 대한 별도의 처리 로직 구현\n",
    "@htmlize.register(str)\n",
    "def _(obj):\n",
    "    print(\"aaa\")\n",
    "    content = html.escape(obj).replace(\"\\n\", \"<br/>\\n\")\n",
    "    return \"<pre>{}</pre>\".format(content)\n",
    "\n",
    "\n",
    "# 새로운 타입이 생길때마다 함수를 추가\n",
    "@htmlize.register(numbers.Integral)\n",
    "def _(n):\n",
    "    print(\"bbb\")\n",
    "    return \"<pre>{}(0x{0:x})</pre>\".format(n)\n",
    "\n",
    "\n",
    "# 동일한 함수로 여러개 자료형 지원\n",
    "@htmlize.register(tuple)\n",
    "@htmlize.register(abc.MutableSequence)\n",
    "def _(seq):\n",
    "    print(\"ccc\")\n",
    "    inner = \"<li>\\n</li>\".join(htmlize(item) for item in seq)\n",
    "    return \"<ul>\\n<li>{}</li>\\n</ul>\".format(inner)\n",
    "\n",
    "\n",
    "\n",
    "str_input = \"hello~~ \\n silva!!\"\n",
    "print(htmlize(str_input))\n",
    "\n",
    "print(htmlize(\"A\\nB\\nC\"))\n",
    "\n",
    "# print(\"---------------\")\n",
    "# num_input = 124.5 + 13j\n",
    "# print(htmlize(num_input))\n",
    "\n",
    "# print(\"---------------\")\n",
    "# list_input = [\"abc\", \"def\"]\n",
    "# print(htmlize(list_input))"
   ]
  }
 ],
 "metadata": {
  "kernelspec": {
   "display_name": "Python 3",
   "language": "python",
   "name": "python3"
  },
  "language_info": {
   "codemirror_mode": {
    "name": "ipython",
    "version": 3
   },
   "file_extension": ".py",
   "mimetype": "text/x-python",
   "name": "python",
   "nbconvert_exporter": "python",
   "pygments_lexer": "ipython3",
   "version": "3.7.4"
  }
 },
 "nbformat": 4,
 "nbformat_minor": 2
}
