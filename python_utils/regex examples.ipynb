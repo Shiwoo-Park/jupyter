{
 "cells": [
  {
   "cell_type": "code",
   "execution_count": 12,
   "metadata": {},
   "outputs": [
    {
     "name": "stdout",
     "output_type": "stream",
     "text": [
      "--- Matched\n",
      "<_sre.SRE_Match object; span=(0, 14), match='#123#456#silva'>\n",
      "groups: ('123', '456', 'silva')\n",
      "group 1: #123#456#silva\n",
      "group 2: #123#456#silva\n",
      "group 3: silva\n",
      "group 4: ('123', '456')\n",
      "groupdict: {}\n",
      "start: 0\n",
      "14\n"
     ]
    }
   ],
   "source": [
    "import re\n",
    "regex = re.compile(\"#(\\d+)#(\\d+)#(\\w+)\")\n",
    "text = \"#123#456#silva\"\n",
    "# text = \"1234\"\n",
    "m = regex.match(text)\n",
    "\n",
    "if m:\n",
    "    print(\"--- Matched\")\n",
    "    print(m)\n",
    "    print(\"groups:\", m.groups())\n",
    "    print(\"group 1:\", m.group())\n",
    "    print(\"group 2:\", m.group(0))\n",
    "    print(\"group 3:\", m.group(3))\n",
    "    print(\"group 4:\", m.group(1,2))\n",
    "    print(\"groupdict:\", m.groupdict())\n",
    "    print(\"start:\", m.start())\n",
    "    print(m.end())\n",
    "else:\n",
    "    print(\"--- Not Matched...\")\n"
   ]
  }
 ],
 "metadata": {
  "kernelspec": {
   "display_name": "Python 3",
   "language": "python",
   "name": "python3"
  },
  "language_info": {
   "codemirror_mode": {
    "name": "ipython",
    "version": 3
   },
   "file_extension": ".py",
   "mimetype": "text/x-python",
   "name": "python",
   "nbconvert_exporter": "python",
   "pygments_lexer": "ipython3",
   "version": "3.6.5"
  }
 },
 "nbformat": 4,
 "nbformat_minor": 2
}
