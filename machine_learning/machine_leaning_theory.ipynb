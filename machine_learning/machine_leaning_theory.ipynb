{
 "cells": [
  {
   "cell_type": "markdown",
   "metadata": {},
   "source": [
    "## KNN (k-Nearest Neighbors) algorithm"
   ]
  },
  {
   "cell_type": "markdown",
   "metadata": {},
   "source": [
    "특정 데이터의 카테고리 분류를 할때 사용한다.\n",
    "\n",
    "2D 그래프에 점이 막 찍혀있고 각 점의 카테고리가 이미 분류 되어있다고 가정하자.\n",
    "이 상태에서 분류해야하는 새로운 점이 하나 찍혔다!\n",
    "이때 이 새로운점은 어떤 카테고리로 분류해야할까??\n",
    "\n",
    "### K 가 뭔가?\n",
    "- 최근접점을 몇개까지 볼거냐\n",
    "- 기본적으로 홀수를 쓴다.\n",
    "- 작은 수를 쓴다.\n",
    "\n",
    "### 최근접점을 그래프에서 어떻게 구할것이냐?\n",
    "- 피타고라스 정리를 이용한다.\n",
    "- $distance^2 = a^2 + b^2$"
   ]
  },
  {
   "cell_type": "markdown",
   "metadata": {},
   "source": [
    "## 의사결정 트리 (Decision Tree)"
   ]
  },
  {
   "cell_type": "markdown",
   "metadata": {},
   "source": [
    "### 접근 과정\n",
    "1. 우리가 해결하고자 하는 문제의 설정\n",
    "2. 머신러닝에 활용할 학습 data 수집\n",
    "3. 학습데이터의 분류 (수작업)\n",
    "  - 건별 데이터마다 속성값이 있음\n",
    "4. Tree 구조의 의사결정 로직을 만들어준다. \n",
    "  - 어떤속성부터 분류 작업을 적용할 것인가\n",
    "  - 어떤 속성부터 split 해야 가장 효율적으로 분류할수 있을지 고민이 필요\n",
    "  - 초반부에 많이 걸러낼수록 좋다.\n",
    "5. 머신 배포 후 활용\n",
    "\n",
    "### 엔트로피(entropy)\n",
    "- 높은경우: 어질러진 상태\n",
    "- 낮은경우: 깔끔한 상태\n",
    "\n",
    "### 정보 습득량(= Information Gain)\n",
    "- base entropy - new entropy\n",
    "- 엔트로피 감소량을 뜻하는것으로 얻어지는 정보량의 측정 값을 의미\n",
    "- 의사결정 Tree 에 의해 많이 걸러질수록 그만큼 entropy 가 낮아지며,\n",
    "- 많이 필터링되는 Tree Node 가 Information Gain 수치가 높다\n"
   ]
  },
  {
   "cell_type": "markdown",
   "metadata": {},
   "source": [
    "## ID3 algorithm"
   ]
  },
  {
   "cell_type": "markdown",
   "metadata": {},
   "source": [
    "### 개요\n",
    "- 의사결정 Tree 에서 하나의 속성을 잡고 데이터를 나눌때 가장 많이 쓰이는 알고리즘\n",
    "- 위에서 설명한 entropy 와 information gain 2가지 컨셉을 이용한다.\n",
    "- 특정 속성에 의해 데이터 정답셋을 분류하는 엔트로피를 계산하는 공식이 있음.\n"
   ]
  },
  {
   "cell_type": "markdown",
   "metadata": {},
   "source": [
    "## Naive Bays Algorithm"
   ]
  },
  {
   "cell_type": "markdown",
   "metadata": {},
   "source": [
    "... ing"
   ]
  }
 ],
 "metadata": {
  "kernelspec": {
   "display_name": "Python 3",
   "language": "python",
   "name": "python3"
  },
  "language_info": {
   "codemirror_mode": {
    "name": "ipython",
    "version": 3
   },
   "file_extension": ".py",
   "mimetype": "text/x-python",
   "name": "python",
   "nbconvert_exporter": "python",
   "pygments_lexer": "ipython3",
   "version": "3.7.4"
  }
 },
 "nbformat": 4,
 "nbformat_minor": 2
}
