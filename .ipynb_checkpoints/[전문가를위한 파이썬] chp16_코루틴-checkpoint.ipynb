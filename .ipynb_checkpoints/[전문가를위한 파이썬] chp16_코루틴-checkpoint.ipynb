{
 "cells": [
  {
   "cell_type": "markdown",
   "metadata": {},
   "source": [
    "## 16.2 코루틴으로 사용되는 제너레이터의 기본동작\n",
    "\n",
    "### 예제 16.1 가장간단한 코루틴"
   ]
  },
  {
   "cell_type": "code",
   "execution_count": null,
   "metadata": {},
   "outputs": [],
   "source": [
    "def simple_coroutine():\n",
    "    print('-> 코루틴 스타또!')\n",
    "    # yield 가 표현식 (값에 할당되어진다.) 에 사용됨. \n",
    "    # yield 키워드 뒤에 아무 값도 없으면 값 생성 안함 \n",
    "    x = yield\n",
    "    print('-> 코루틴이가 받아온 값이예요 : ', x)"
   ]
  },
  {
   "cell_type": "code",
   "execution_count": null,
   "metadata": {},
   "outputs": [],
   "source": [
    "coro = simple_coroutine()\n",
    "coro"
   ]
  },
  {
   "cell_type": "code",
   "execution_count": null,
   "metadata": {},
   "outputs": [],
   "source": [
    "next(coro)"
   ]
  },
  {
   "cell_type": "code",
   "execution_count": null,
   "metadata": {},
   "outputs": [],
   "source": [
    "# yield 에 값을 넣고, 다음 yield까지 진행. 없으면 StopIteration \n",
    "coro.send(42) # 삶, 우주 그리고 모든것에 대한 궁극적인 해답 : 42"
   ]
  },
  {
   "cell_type": "markdown",
   "metadata": {},
   "source": [
    "-------------------------------------\n",
    "### 16.2 두번 생성하는 코루틴 "
   ]
  },
  {
   "cell_type": "code",
   "execution_count": null,
   "metadata": {},
   "outputs": [],
   "source": [
    "## 상태를 알아보기위해 임포트함\n",
    "from inspect import getgeneratorstate as genstate\n",
    "\n",
    "def simple_coro2(a):\n",
    "    print('-> 시작하자 : a = ', a)\n",
    "    b = yield a\n",
    "    print('-> 코루틴이가 받은 값이요옹 b : ', b )\n",
    "    c = yield a + b\n",
    "    print('-> C = a + b =  ', c)\n",
    "    \n",
    "    \n",
    "\n",
    "coro2 = simple_coro2(14)\n",
    "\n",
    "genstate(coro2)"
   ]
  },
  {
   "cell_type": "code",
   "execution_count": null,
   "metadata": {},
   "outputs": [],
   "source": [
    "## 점화! \n",
    "next(coro2)\n",
    "genstate(coro2)"
   ]
  },
  {
   "cell_type": "code",
   "execution_count": null,
   "metadata": {},
   "outputs": [],
   "source": [
    "coro2.send(28)\n",
    "genstate(coro2)"
   ]
  },
  {
   "cell_type": "code",
   "execution_count": null,
   "metadata": {},
   "outputs": [],
   "source": [
    "coro2.send(99)"
   ]
  },
  {
   "cell_type": "code",
   "execution_count": null,
   "metadata": {},
   "outputs": [],
   "source": [
    "genstate(coro2)"
   ]
  },
  {
   "cell_type": "markdown",
   "metadata": {},
   "source": [
    "## 16.3 예제 : 이동 평균을 계산하는 코루틴"
   ]
  },
  {
   "cell_type": "code",
   "execution_count": null,
   "metadata": {},
   "outputs": [],
   "source": [
    "def averager():\n",
    "    total = 0.0\n",
    "    count = 0\n",
    "    average = None\n",
    "    while True: # 무한루프라서 호출자가 close 해줘야함\n",
    "        term = yield average # 지금까지의 평균 계산\n",
    "        if not term:\n",
    "            term = 0\n",
    "        total += term\n",
    "        count += 1\n",
    "        average = total/count"
   ]
  },
  {
   "cell_type": "code",
   "execution_count": null,
   "metadata": {},
   "outputs": [],
   "source": [
    "coro_avg = averager()\n",
    "next(coro_avg)\n",
    "coro_avg.send(10)"
   ]
  },
  {
   "cell_type": "code",
   "execution_count": null,
   "metadata": {},
   "outputs": [],
   "source": [
    "coro_avg.send(30)"
   ]
  },
  {
   "cell_type": "code",
   "execution_count": null,
   "metadata": {},
   "outputs": [],
   "source": [
    "### 궁금해서 next를 여러번해보았다.\n",
    "### 점화 이후의 next는 coro_avg.send(None) 과 같은 동작을 했다. \n",
    "### 근데 무한루프 어떻게 종료시키지?\n",
    "coro_avg = averager()\n",
    "next(coro_avg) ## 점화\n",
    "next(coro_avg) # 0\n",
    "next(coro_avg) # 0\n",
    "coro_avg.send(10) # 3.3\n",
    "coro_avg.send(10) # 5"
   ]
  },
  {
   "cell_type": "markdown",
   "metadata": {},
   "source": [
    "## 16.4 코루틴을 기동하기 위한 데커레이터"
   ]
  },
  {
   "cell_type": "code",
   "execution_count": null,
   "metadata": {},
   "outputs": [],
   "source": [
    "from functools import wraps\n",
    "def coroutine(func):\n",
    "    \"\"\"데커레이터 : `func` 를 기동해서 첫번째 `yield` 까지 진행한다. \"\"\"\n",
    "    @wraps(func)\n",
    "    def primer(*args, **kwargs):\n",
    "        gen = func(*args, **kwargs)\n",
    "        next(gen)\n",
    "        return gen\n",
    "    return primer\n",
    "\n",
    "@coroutine\n",
    "def averager():\n",
    "    total = 0.0\n",
    "    count = 0\n",
    "    average = None\n",
    "    while True:\n",
    "        term = yield average \n",
    "        total += term\n",
    "        count += 1\n",
    "        average = total / count"
   ]
  },
  {
   "cell_type": "code",
   "execution_count": null,
   "metadata": {},
   "outputs": [],
   "source": [
    "coro_avg = averager()\n",
    "from inspect import getgeneratorstate as genstate\n",
    "genstate(coro_avg)"
   ]
  },
  {
   "cell_type": "code",
   "execution_count": null,
   "metadata": {},
   "outputs": [],
   "source": [
    "print(coro_avg.send(10))\n",
    "print(coro_avg.send(20))\n",
    "print(coro_avg.send(30))"
   ]
  },
  {
   "cell_type": "markdown",
   "metadata": {},
   "source": [
    "## 16.5 코루틴 종료와 예외 처리"
   ]
  },
  {
   "cell_type": "code",
   "execution_count": null,
   "metadata": {},
   "outputs": [],
   "source": [
    "coro_avg = averager()\n",
    "print(coro_avg.send(40))\n",
    "print(coro_avg.send(50))"
   ]
  },
  {
   "cell_type": "code",
   "execution_count": null,
   "metadata": {},
   "outputs": [],
   "source": [
    "coro_avg.send('뿌잉뿌잉')"
   ]
  },
  {
   "cell_type": "code",
   "execution_count": null,
   "metadata": {},
   "outputs": [],
   "source": [
    "## 코루틴안에서 예외를 처리하지 않아서 코루틴이 종료됨. 다시 활성화 시키려고하면 StopIteration 에러 발생\n",
    "print(coro_avg.send(60)) "
   ]
  },
  {
   "cell_type": "code",
   "execution_count": null,
   "metadata": {},
   "outputs": [],
   "source": [
    "class DemoException(Exception):\n",
    "    \"\"\"설명에 사용할 거\"\"\"\n",
    "    \n",
    "def demo_exc_handling():\n",
    "    print('-> coroutine started')\n",
    "    while True:\n",
    "        try:\n",
    "            x = yield\n",
    "        except DemoException:\n",
    "            print('*** DemoException handled. Counting...')\n",
    "        else:\n",
    "            print('-> 코루틴 이 받은 값 : {!r}'.format(x))\n",
    "    raise RuntimeError(\"이 라인은 실행되지 않는다.\")\n",
    "    \n",
    "exc_coro = demo_exc_handling()\n",
    "next(exc_coro)"
   ]
  },
  {
   "cell_type": "code",
   "execution_count": null,
   "metadata": {},
   "outputs": [],
   "source": [
    "exc_coro.send(11)"
   ]
  },
  {
   "cell_type": "code",
   "execution_count": null,
   "metadata": {},
   "outputs": [],
   "source": [
    "exc_coro.send(22)"
   ]
  },
  {
   "cell_type": "code",
   "execution_count": null,
   "metadata": {},
   "outputs": [],
   "source": [
    "exc_coro.close()"
   ]
  },
  {
   "cell_type": "code",
   "execution_count": null,
   "metadata": {},
   "outputs": [],
   "source": [
    "from inspect import getgeneratorstate as genstate\n",
    "genstate(exc_coro)"
   ]
  },
  {
   "cell_type": "code",
   "execution_count": null,
   "metadata": {},
   "outputs": [],
   "source": [
    "exc_coro = demo_exc_handling()\n",
    "next(exc_coro)"
   ]
  },
  {
   "cell_type": "code",
   "execution_count": null,
   "metadata": {},
   "outputs": [],
   "source": [
    "exc_coro.send(11)"
   ]
  },
  {
   "cell_type": "code",
   "execution_count": null,
   "metadata": {},
   "outputs": [],
   "source": [
    "exc_coro.throw(DemoException)"
   ]
  },
  {
   "cell_type": "code",
   "execution_count": null,
   "metadata": {},
   "outputs": [],
   "source": [
    "genstate(exc_coro)"
   ]
  },
  {
   "cell_type": "code",
   "execution_count": null,
   "metadata": {},
   "outputs": [],
   "source": [
    "exc_coro.send(31)"
   ]
  },
  {
   "cell_type": "markdown",
   "metadata": {},
   "source": [
    "처리 되지 않는 예외를 코루틴 안으로 던지면 코루틴이 중단되고 상태는 'GEN_CLOSED' 가 된다."
   ]
  },
  {
   "cell_type": "code",
   "execution_count": null,
   "metadata": {},
   "outputs": [],
   "source": [
    "exc_coro = demo_exc_handling()\n",
    "next(exc_coro)"
   ]
  },
  {
   "cell_type": "code",
   "execution_count": null,
   "metadata": {},
   "outputs": [],
   "source": [
    "exc_coro.send(11)"
   ]
  },
  {
   "cell_type": "code",
   "execution_count": null,
   "metadata": {},
   "outputs": [],
   "source": [
    "exc_coro.throw(ZeroDivisionError)"
   ]
  },
  {
   "cell_type": "code",
   "execution_count": null,
   "metadata": {},
   "outputs": [],
   "source": [
    "genstate(exc_coro)"
   ]
  },
  {
   "cell_type": "markdown",
   "metadata": {},
   "source": [
    "코루틴이 어떻게 종료되든지 정리코드를 실해애햐 하는 경우에는 \n",
    "\n",
    "try/finally 블록안에 코루틴의 해당 코드를 넣어야한다. "
   ]
  },
  {
   "cell_type": "code",
   "execution_count": null,
   "metadata": {},
   "outputs": [],
   "source": [
    "class DemoException(Exception):\n",
    "    \"\"\"데모용 익셉션\"\"\"\n",
    "    \n",
    "def demo_finally():\n",
    "    print('-> 코루틴 스타또')\n",
    "    try:\n",
    "        while True:\n",
    "            try:\n",
    "                x = yield\n",
    "            except DemoException:\n",
    "                print(\"*** 데모용 익셉션 처리, 계속....\")\n",
    "            else:\n",
    "                print('-> 코루틴이 받은값 : {!r}'.format(x))\n",
    "    finally:\n",
    "        print('-> 코루틴 끝')"
   ]
  },
  {
   "cell_type": "code",
   "execution_count": null,
   "metadata": {},
   "outputs": [],
   "source": [
    "exc_coro = demo_finally()\n",
    "next(exc_coro)"
   ]
  },
  {
   "cell_type": "code",
   "execution_count": null,
   "metadata": {},
   "outputs": [],
   "source": [
    "exc_coro.send(10)"
   ]
  },
  {
   "cell_type": "code",
   "execution_count": null,
   "metadata": {},
   "outputs": [],
   "source": [
    "exc_coro.throw(DemoException)"
   ]
  },
  {
   "cell_type": "code",
   "execution_count": null,
   "metadata": {},
   "outputs": [],
   "source": [
    "exc_coro.send(1000)"
   ]
  },
  {
   "cell_type": "code",
   "execution_count": null,
   "metadata": {},
   "outputs": [],
   "source": [
    "exc_coro.close()"
   ]
  },
  {
   "cell_type": "markdown",
   "metadata": {},
   "source": [
    "## 16.6 코루틴에서 값 반환하기"
   ]
  },
  {
   "cell_type": "code",
   "execution_count": null,
   "metadata": {},
   "outputs": [],
   "source": [
    "from collections import namedtuple \n",
    "\n",
    "Result = namedtuple('Result', 'count average')\n",
    "\n",
    "def averager():\n",
    "    total = 0.0\n",
    "    count = 0\n",
    "    average = None\n",
    "    while True:\n",
    "        term = yield\n",
    "        if term is None:\n",
    "            break\n",
    "        total += term\n",
    "        count +=1 \n",
    "        average = total / count\n",
    "    return Result(count, average)"
   ]
  },
  {
   "cell_type": "code",
   "execution_count": null,
   "metadata": {},
   "outputs": [],
   "source": [
    "coro_avg = averager()\n",
    "next(coro_avg)\n",
    "coro_avg.send(10)"
   ]
  },
  {
   "cell_type": "code",
   "execution_count": null,
   "metadata": {},
   "outputs": [],
   "source": [
    "coro_avg.send(30)"
   ]
  },
  {
   "cell_type": "code",
   "execution_count": null,
   "metadata": {},
   "outputs": [],
   "source": [
    "coro_avg.send(6.5)"
   ]
  },
  {
   "cell_type": "code",
   "execution_count": null,
   "metadata": {},
   "outputs": [],
   "source": [
    "coro_avg.send(None)"
   ]
  },
  {
   "cell_type": "code",
   "execution_count": null,
   "metadata": {},
   "outputs": [],
   "source": [
    "coro_avg = averager()\n",
    "next(coro_avg)\n",
    "coro_avg.send(10)\n",
    "coro_avg.send(30)\n",
    "coro_avg.send(6.5)\n",
    "\n",
    "try:\n",
    "    coro_avg.send(None)\n",
    "except StopIteration as exc:\n",
    "    result = exc.value\n",
    "\n",
    "result"
   ]
  },
  {
   "cell_type": "markdown",
   "metadata": {},
   "source": [
    "## 16.7 yield from 사용하기\n"
   ]
  },
  {
   "cell_type": "code",
   "execution_count": null,
   "metadata": {},
   "outputs": [],
   "source": [
    "def gen():\n",
    "    for c in 'AB':\n",
    "        yield c\n",
    "    for i in range(1,3):\n",
    "        yield i\n",
    "\n",
    "list(gen())"
   ]
  },
  {
   "cell_type": "code",
   "execution_count": null,
   "metadata": {},
   "outputs": [],
   "source": [
    "def gen2():\n",
    "    yield from 'AB'\n",
    "    yield from range(1,3)\n",
    "\n",
    "list(gen2())"
   ]
  },
  {
   "cell_type": "code",
   "execution_count": null,
   "metadata": {},
   "outputs": [],
   "source": [
    "def chain(*iterables):\n",
    "    for it in iterables:\n",
    "        yield from it\n",
    "\n",
    "s = 'ABC'\n",
    "t = tuple(range(3))\n",
    "list(chain(s, t))"
   ]
  },
  {
   "cell_type": "code",
   "execution_count": null,
   "metadata": {},
   "outputs": [],
   "source": [
    "from collections import namedtuple\n",
    "\n",
    "Result = namedtuple('Result', 'count average')\n",
    "\n",
    "# 하위 제너레이터\n",
    "def averager():\n",
    "    total = 0.0\n",
    "    count = 0\n",
    "    average = None\n",
    "    while True:\n",
    "        term = yield\n",
    "        if term is None:\n",
    "            break\n",
    "        print('send로 보낸 값이 들어 있음 term : ', term)\n",
    "        total += term\n",
    "        count += 1\n",
    "        average = total / count\n",
    "    return Result(count, average)\n",
    "\n",
    "# 대표 제너레이터\n",
    "def grouper(results, key):\n",
    "    while True:\n",
    "        results[key] = yield from averager()\n",
    "\n",
    "# 호출자\n",
    "def main(data):\n",
    "    results = {}\n",
    "    for key, values in data.items():\n",
    "        group = grouper(results, key)\n",
    "        next(group)\n",
    "        for value in values:\n",
    "            print('하위 제너레이터로 값을 보낸다 value : ', value)\n",
    "            group.send(value)\n",
    "        group.send(None)\n",
    "    print(results)\n",
    "    report(results)\n",
    "\n",
    "\n",
    "# 실행 결과 보고서\n",
    "def report(results):\n",
    "    for key, result in sorted(results.items()):\n",
    "        group, unit = key.split(';')\n",
    "        print('{:2} {:5} averaging {:.2f}'.format(result.count, group, result.average, unit))\n",
    "\n",
    "data = {\n",
    "    'girls;kg':[40.9, 38.5, 44.3, 42.2, 45.2, 41.7, 44.5, 38.0, 40.6, 44.5], \n",
    "    'girls;m': [1.6, 1.51, 1.4, 1.3, 1.41, 1.39, 1.33, 1.46, 1.45, 1.43], \n",
    "    'boys;kg':[39.0, 40.8, 43.2, 40.8, 43.1, 38.6, 41.4, 40.6, 36.3], \n",
    "    'boys;m':[1.38, 1.5, 1.32, 1.25, 1.37, 1.48, 1.25, 1.49, 1.46],\n",
    "}\n",
    "\n"
   ]
  },
  {
   "cell_type": "code",
   "execution_count": null,
   "metadata": {},
   "outputs": [],
   "source": [
    "main(data)"
   ]
  },
  {
   "cell_type": "code",
   "execution_count": null,
   "metadata": {},
   "outputs": [],
   "source": [
    "_i = iter(EXPR)\n",
    "try:\n",
    "    _y = next(_i)\n",
    "except StopIteration as _e:\n",
    "    _r = _e.value\n",
    "else:\n",
    "    while 1:\n",
    "        _s = yield _y\n",
    "        try:\n",
    "            _y = _i.send(_s)\n",
    "        except StopIteration as _e:\n",
    "            _r = _e.value\n",
    "            break\n",
    "    \n",
    "RESLUT = _r"
   ]
  },
  {
   "cell_type": "markdown",
   "metadata": {},
   "source": [
    "## 16.9 택시시뮬레이터\n"
   ]
  },
  {
   "cell_type": "code",
   "execution_count": null,
   "metadata": {},
   "outputs": [],
   "source": [
    "import random\n",
    "import collections\n",
    "import queue\n",
    "import argparse\n",
    "\n",
    "DEFAULT_NUMBER_OF_TAXIS = 3\n",
    "DEFAULT_END_TIME = 180\n",
    "SEARCH_DURATION = 5\n",
    "TRIP_DURATION = 20\n",
    "DEPARTURE_INTERVAL = 5\n",
    "\n",
    "Event = collections.namedtuple('Event', 'time proc action')\n",
    "\n",
    "\n",
    "def taxi_process(ident, trips, start_time=0):\n",
    "    time = yield Event(start_time, ident, '차고 떠남')\n",
    "    for i in range(trips):\n",
    "        time = yield Event(time, ident, '승객 태움')\n",
    "        time = yield Event(time, ident, \"승객 내림\")\n",
    "    \n",
    "    yield Event(time, ident, '집으로 감')\n",
    "\n",
    "\n",
    "    \n",
    "class Simulator:\n",
    "    \n",
    "    def __init__(self, procs_map):\n",
    "        \"\"\"\n",
    "        self.events : Event 객체를 담고있는 priorityqueue 객체 time 속성으로 정렬\n",
    "        self.procs : 각 프로세스 번호를 시뮬레이션의 활성화된 프로세스로 매핑. 택시하나가 하나의 프로세스\n",
    "        \"\"\"\n",
    "        \n",
    "        self.events = queue.PriorityQueue() # 이벤트를 시간순으로 정렬해서 보관\n",
    "        # 다시 dict 로 감싸는 이유는 객체의 사본을 사용하기 위해서. \n",
    "        # 클라이언트가 보낸 원본을 변경하면 안되므로 \n",
    "        self.procs = dict(procs_map) \n",
    "        \n",
    "    def run(self, end_time):\n",
    "        \"\"\"시간이 끝날 때 까지 이벤트를 스케줄링하고 출력 \"\"\"\n",
    "        \n",
    "        # 각 택시의 첫번째 이벤트를 스케줄링 한다. \n",
    "        for _, proc in sorted(self.procs.items()):\n",
    "            first_event = next(proc) # 각 코루틴을 첫번째 yield 까지 이동시켜서 준비시킴\n",
    "            self.events.put(first_event)\n",
    "        \n",
    "        # 시뮬레이션 핵심 루프 \n",
    "        sim_time = 0 # 시뮬레이션의 시간을 0으로 설정 \n",
    "        while sim_time < end_time:\n",
    "            if self.events.empty(): # 큐에 남아있는 이벤트가 없으면 루프를 종료\n",
    "                print('*** 이벤트 종료 ***')\n",
    "                break\n",
    "            \n",
    "            current_event = self.events.get() # time으로 sort 했으니 가작 장은 time값을 큐에서 꺼내옴\n",
    "            sim_time, proc_id, previous_action = current_event # Event 데이터를 언패킹\n",
    "            print('taxi : ', proc_id, proc_id * '     ' , current_event)\n",
    "            active_proc = self.procs[proc_id] # proc_id 에 해당하는 코루틴을 가져옴 \n",
    "            next_time = sim_time + compute_duration(previous_action)\n",
    "            try:\n",
    "                next_event = active_proc.send(next_time)  # 택시 코루틴에 시각을 전송\n",
    "            except StopIteration:\n",
    "                del self.procs[proc_id] # StopIteration 예외시 해당 코루틴을 딕셔너리에서 제거\n",
    "            else:\n",
    "                self.events.put(next_event)\n",
    "        else:\n",
    "            msg = '*** 시뮬레이션 시간 끝 : {} 이벤트 지연중 ***'\n",
    "            print(msg.format(self.events.qsize()))\n",
    "        \n",
    "def compute_duration(previous_action):\n",
    "    if previous_action in ['차고 떠남', '승객 내림']:\n",
    "        interval = SEARCH_DURATION\n",
    "    elif previous_action == '승객 태움':\n",
    "        interval = TRIP_DURATION\n",
    "    elif previous_action == '집으로 감':\n",
    "        interval = 1\n",
    "    else:\n",
    "        raise ValueError(\"알수없는 previous_action 입니다. %s\" % previous_action)\n",
    "    return int(random.expovariate(1/interval)) + 1\n",
    "    \n",
    "def main(end_time=DEFAULT_END_TIME, num_taxis=DEFAULT_NUMBER_OF_TAXIS, seed=None):\n",
    "    if seed is not None:\n",
    "        random.seed(seed)\n",
    "\n",
    "    taxis = {i: taxi_process(i, (i + 1) * 2, i * DEPARTURE_INTERVAL) for i in range(num_taxis)}\n",
    "    sim = Simulator(taxis)\n",
    "    sim.run(end_time)\n",
    "    \n",
    "\n",
    "    "
   ]
  },
  {
   "cell_type": "code",
   "execution_count": null,
   "metadata": {},
   "outputs": [],
   "source": [
    "### 택시를 직접 운행해보기\n",
    "taxi = taxi_process(ident=51, trips=2, start_time=0)\n",
    "next(taxi)"
   ]
  },
  {
   "cell_type": "code",
   "execution_count": null,
   "metadata": {},
   "outputs": [],
   "source": [
    "taxi.send(_.time + 7)"
   ]
  },
  {
   "cell_type": "code",
   "execution_count": null,
   "metadata": {},
   "outputs": [],
   "source": [
    "taxi.send(_.time + 20)"
   ]
  },
  {
   "cell_type": "code",
   "execution_count": null,
   "metadata": {},
   "outputs": [],
   "source": [
    "taxi.send(_.time + 1)"
   ]
  },
  {
   "cell_type": "code",
   "execution_count": null,
   "metadata": {},
   "outputs": [],
   "source": [
    "taxi.send(_.time + 5)"
   ]
  },
  {
   "cell_type": "code",
   "execution_count": null,
   "metadata": {},
   "outputs": [],
   "source": [
    "taxi.send(_.time + 111)"
   ]
  },
  {
   "cell_type": "code",
   "execution_count": null,
   "metadata": {},
   "outputs": [],
   "source": [
    "taxi.send(_.time + 10)"
   ]
  },
  {
   "cell_type": "code",
   "execution_count": null,
   "metadata": {},
   "outputs": [],
   "source": [
    "end_time = 120\n",
    "seed = 3\n",
    "taxis = 3\n",
    "\n",
    "main(end_time, taxis, seed)"
   ]
  },
  {
   "cell_type": "code",
   "execution_count": null,
   "metadata": {},
   "outputs": [],
   "source": [
    "main(num_taxis=2, seed=10)"
   ]
  },
  {
   "cell_type": "code",
   "execution_count": null,
   "metadata": {},
   "outputs": [],
   "source": [
    "main(num_taxis=2, seed=6, end_time=10)"
   ]
  }
 ],
 "metadata": {
  "kernelspec": {
   "display_name": "py37",
   "language": "python",
   "name": "py37"
  },
  "language_info": {
   "codemirror_mode": {
    "name": "ipython",
    "version": 3
   },
   "file_extension": ".py",
   "mimetype": "text/x-python",
   "name": "python",
   "nbconvert_exporter": "python",
   "pygments_lexer": "ipython3",
   "version": "3.6.7"
  }
 },
 "nbformat": 4,
 "nbformat_minor": 2
}
