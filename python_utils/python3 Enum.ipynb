{
 "cells": [
  {
   "cell_type": "code",
   "execution_count": 8,
   "metadata": {},
   "outputs": [
    {
     "name": "stdout",
     "output_type": "stream",
     "text": [
      "['MY_TYPE1', 'MY_TYPE2', 'MY_TYPE3', 'MY_TYPE4', '__class__', '__doc__', '__members__', '__module__']\n",
      "<enum 'MyTypes'>\n",
      "MY_TYPE1\n",
      "A_type\n"
     ]
    }
   ],
   "source": [
    "from enum import Enum\n",
    "\n",
    "class MyTypes(Enum):\n",
    "    MY_TYPE1 = \"A_type\"\n",
    "    MY_TYPE2 = \"B_type\"\n",
    "    MY_TYPE3 = \"C_type\"\n",
    "    MY_TYPE4 = \"D_type\"\n",
    "    \n",
    "\n",
    "print(dir(MyTypes))\n",
    "print(type(MyTypes.MY_TYPE1))\n",
    "print(MyTypes.MY_TYPE1.name)\n",
    "print(MyTypes.MY_TYPE1.value)"
   ]
  }
 ],
 "metadata": {
  "kernelspec": {
   "display_name": "Python 3",
   "language": "python",
   "name": "python3"
  },
  "language_info": {
   "codemirror_mode": {
    "name": "ipython",
    "version": 3
   },
   "file_extension": ".py",
   "mimetype": "text/x-python",
   "name": "python",
   "nbconvert_exporter": "python",
   "pygments_lexer": "ipython3",
   "version": "3.6.5"
  }
 },
 "nbformat": 4,
 "nbformat_minor": 2
}
